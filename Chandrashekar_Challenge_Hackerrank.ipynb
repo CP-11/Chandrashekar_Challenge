{
 "cells": [
  {
   "cell_type": "code",
   "execution_count": 3,
   "id": "c6c37481",
   "metadata": {},
   "outputs": [
    {
     "name": "stdout",
     "output_type": "stream",
     "text": [
      "6\n",
      "4123456789123456\n",
      "Valid\n",
      "5123-4567-8912-3456\n",
      "Valid\n",
      "61234-567-8912-3456\n",
      "Invalid\n",
      "4123356789123456\n",
      "Valid\n",
      "5133-3367-8912-3456\n",
      "Invalid\n",
      "5123 - 3567 - 8912 - 3456\n",
      "Invalid\n"
     ]
    }
   ],
   "source": [
    "import re\n",
    "\n",
    "def is_valid_credit_card(card_number):\n",
    "    \n",
    "    # Checks if the card number matches the pattern\n",
    "    \n",
    "    pattern = r'^(?!.*(\\d)(-?\\1){3})([456]\\d{3}-?\\d{4}-?\\d{4}-?\\d{4}|[456]\\d{16})$'\n",
    "    if re.match(pattern, card_number):\n",
    "        return True\n",
    "    else:\n",
    "        return False\n",
    "\n",
    "# Input\n",
    "\n",
    "n = int(input())\n",
    "for _ in range(n):\n",
    "    card_number = input().strip()\n",
    "    if is_valid_credit_card(card_number):\n",
    "        print(\"Valid\")\n",
    "    else:\n",
    "        print(\"Invalid\")"
   ]
  },
  {
   "cell_type": "code",
   "execution_count": null,
   "id": "ccef75c0",
   "metadata": {},
   "outputs": [],
   "source": []
  }
 ],
 "metadata": {
  "kernelspec": {
   "display_name": "Python 3 (ipykernel)",
   "language": "python",
   "name": "python3"
  },
  "language_info": {
   "codemirror_mode": {
    "name": "ipython",
    "version": 3
   },
   "file_extension": ".py",
   "mimetype": "text/x-python",
   "name": "python",
   "nbconvert_exporter": "python",
   "pygments_lexer": "ipython3",
   "version": "3.9.7"
  }
 },
 "nbformat": 4,
 "nbformat_minor": 5
}
